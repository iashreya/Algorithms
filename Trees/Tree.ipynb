{
 "cells": [
  {
   "cell_type": "code",
   "execution_count": 2,
   "metadata": {},
   "outputs": [],
   "source": [
    "class Node:\n",
    "    def __init__(self, data):\n",
    "        self.data = data\n",
    "        self.left = None\n",
    "        self.right = None        "
   ]
  },
  {
   "cell_type": "code",
   "execution_count": 130,
   "metadata": {},
   "outputs": [],
   "source": [
    "class BST:\n",
    "    def __init__(self, root=None):\n",
    "        self.root = root\n",
    "        \n",
    "    def insert(self, data):\n",
    "        print(\"============ INSERTING NODE {0} ============\".format(data))\n",
    "        node = Node(data)\n",
    "        \n",
    "        if self.root == None:\n",
    "            self.root = node\n",
    "        else:\n",
    "            temp = self.root\n",
    "            while(True):\n",
    "                if node.data <= temp.data:\n",
    "                    if temp.left != None:\n",
    "                        temp = temp.left\n",
    "                    else:\n",
    "                        temp.left = node\n",
    "                        break\n",
    "                else:\n",
    "                    if temp.right != None:\n",
    "                        temp = temp.right\n",
    "                    else:\n",
    "                        temp.right = node\n",
    "                        break\n",
    "                        \n",
    "    def lookup(self, data):\n",
    "        temp = self.root\n",
    "        \n",
    "        while(temp!=None):\n",
    "            if temp.data == data:\n",
    "                return temp\n",
    "            elif data<temp.data:\n",
    "                if temp.left != None:\n",
    "                    temp = temp.left\n",
    "                else:\n",
    "                    return \"Not Found\"\n",
    "            else:\n",
    "                if temp.right != None:\n",
    "                    temp = temp.right\n",
    "                else:\n",
    "                    return \"Not Found\" \n",
    "        return \"Not Found\"\n",
    "    \n",
    "    def remove(self, data):\n",
    "        if self.root == None:\n",
    "            return False\n",
    "        else:\n",
    "            currentNode = self.root\n",
    "            parentNode = None\n",
    "            \n",
    "            while(currentNode):\n",
    "                if data < currentNode.data:\n",
    "                    parentNode = currentNode\n",
    "                    currentNode = currentNode.left\n",
    "                    \n",
    "                    if currentNode == None:\n",
    "                        return False\n",
    "                    \n",
    "                    if data == currentNode.data:\n",
    "                        if currentNode.left == None and currentNode.right == None:\n",
    "                            parentNode.left = None\n",
    "                        elif currentNode.left == None and currentNode.right != None:\n",
    "                            parentNode.left = currentNode.right\n",
    "                        elif currentNode.left != None and currentNode.right == None:\n",
    "                            parentNode.left = currentNode.left\n",
    "                        else:\n",
    "                            temp = currentNode.right\n",
    "                            while(temp.left!=None):\n",
    "                                temp = temp.left\n",
    "                                \n",
    "                            temp.left = currentNode.left\n",
    "                            parentNode.left = temp\n",
    "                            \n",
    "                        currentNode = None\n",
    "                        return True\n",
    "                            \n",
    "                    \n",
    "                elif data > currentNode.data:\n",
    "                    parentNode = currentNode\n",
    "                    currentNode = currentNode.right\n",
    "                    \n",
    "                    if currentNode == None:\n",
    "                        return False\n",
    "                    \n",
    "                    if data == currentNode.data:\n",
    "                        if currentNode.left == None and currentNode.right == None:\n",
    "                            parentNode.right = None\n",
    "                        elif currentNode.left == None and currentNode.right != None:\n",
    "                            parentNode.right = currentNode.right\n",
    "                        elif currentNode.left != None and currentNode.right == None:\n",
    "                            parentNode.right = currentNode.left\n",
    "                        else:\n",
    "                            temp = currentNode.right\n",
    "                            while(temp.left!=None):\n",
    "                                temp = temp.left\n",
    "                                \n",
    "                            temp.left = currentNode.left    \n",
    "                            parentNode.right = temp\n",
    "                            \n",
    "                        currentNode = None\n",
    "                        return True\n",
    "        \n",
    "                    \n",
    "    \n",
    "    def traverse(self, node):\n",
    "        if node!=None:\n",
    "            self.traverse(node.left)\n",
    "            print(node.data)\n",
    "            self.traverse(node.right)"
   ]
  },
  {
   "cell_type": "code",
   "execution_count": 131,
   "metadata": {},
   "outputs": [],
   "source": [
    "tree = BST()"
   ]
  },
  {
   "cell_type": "code",
   "execution_count": 132,
   "metadata": {},
   "outputs": [
    {
     "name": "stdout",
     "output_type": "stream",
     "text": [
      "============ INSERTING NODE 9 ============\n",
      "============ INSERTING NODE 4 ============\n",
      "============ INSERTING NODE 6 ============\n",
      "============ INSERTING NODE 20 ============\n",
      "============ INSERTING NODE 170 ============\n",
      "============ INSERTING NODE 15 ============\n",
      "============ INSERTING NODE 1 ============\n"
     ]
    }
   ],
   "source": [
    "tree.insert(9)\n",
    "tree.insert(4)\n",
    "tree.insert(6)\n",
    "tree.insert(20)\n",
    "tree.insert(170)\n",
    "tree.insert(15)\n",
    "tree.insert(1)"
   ]
  },
  {
   "cell_type": "code",
   "execution_count": 133,
   "metadata": {},
   "outputs": [
    {
     "name": "stdout",
     "output_type": "stream",
     "text": [
      "1\n",
      "4\n",
      "6\n",
      "9\n",
      "15\n",
      "20\n",
      "170\n"
     ]
    }
   ],
   "source": [
    "tree.traverse(tree.root)"
   ]
  },
  {
   "cell_type": "code",
   "execution_count": 137,
   "metadata": {},
   "outputs": [
    {
     "data": {
      "text/plain": [
       "False"
      ]
     },
     "execution_count": 137,
     "metadata": {},
     "output_type": "execute_result"
    }
   ],
   "source": [
    "tree.remove(4)"
   ]
  },
  {
   "cell_type": "code",
   "execution_count": 138,
   "metadata": {},
   "outputs": [
    {
     "name": "stdout",
     "output_type": "stream",
     "text": [
      "1\n",
      "6\n",
      "9\n",
      "15\n",
      "20\n",
      "170\n"
     ]
    }
   ],
   "source": [
    "tree.traverse(tree.root)"
   ]
  },
  {
   "cell_type": "code",
   "execution_count": null,
   "metadata": {},
   "outputs": [],
   "source": []
  }
 ],
 "metadata": {
  "kernelspec": {
   "display_name": "Python 3",
   "language": "python",
   "name": "python3"
  },
  "language_info": {
   "codemirror_mode": {
    "name": "ipython",
    "version": 3
   },
   "file_extension": ".py",
   "mimetype": "text/x-python",
   "name": "python",
   "nbconvert_exporter": "python",
   "pygments_lexer": "ipython3",
   "version": "3.7.4"
  }
 },
 "nbformat": 4,
 "nbformat_minor": 2
}
