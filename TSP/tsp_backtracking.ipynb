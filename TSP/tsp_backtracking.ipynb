{
 "cells": [
  {
   "cell_type": "code",
   "execution_count": 1,
   "metadata": {
    "collapsed": true
   },
   "outputs": [],
   "source": [
    "import numpy as np"
   ]
  },
  {
   "cell_type": "code",
   "execution_count": 2,
   "metadata": {
    "collapsed": true
   },
   "outputs": [],
   "source": [
    "import random\n",
    "import time"
   ]
  },
  {
   "cell_type": "code",
   "execution_count": 3,
   "metadata": {
    "collapsed": true
   },
   "outputs": [],
   "source": [
    "dist = np.array([random.sample(range(36),36)])\n",
    "dist = dist.reshape(6,6)\n",
    "\n",
    "for i in range(6):\n",
    "    dist[i][i] = 0\n",
    "    \n",
    "for i in range(6):\n",
    "    for j in range(6):\n",
    "        if j < i:\n",
    "            dist[i][j] = dist[j][i]"
   ]
  },
  {
   "cell_type": "code",
   "execution_count": 4,
   "metadata": {
    "collapsed": true
   },
   "outputs": [],
   "source": [
    "dist = np.array([[ 0, 64,  8, 29, 13, 83, 69, 87, 58, 17],\n",
    "       [64,  0, 78, 27, 52, 18, 88,  9, 47, 63],\n",
    "       [ 8, 78,  0, 37, 61, 54, 33,  7,  2, 59],\n",
    "       [29, 27, 37,  0, 15, 93, 65, 89, 99, 90],\n",
    "       [13, 52, 61, 15,  0,  3, 91, 51, 81, 92],\n",
    "       [83, 18, 54, 93,  3,  0, 11, 53, 49, 48],\n",
    "       [69, 88, 33, 65, 91, 11,  0, 71, 67, 50],\n",
    "       [87,  9,  7, 89, 51, 53, 71,  0, 10, 62],\n",
    "       [58, 47,  2, 99, 81, 49, 67, 10,  0, 45],\n",
    "       [17, 63, 59, 90, 92, 48, 50, 62, 45,  0]])"
   ]
  },
  {
   "cell_type": "code",
   "execution_count": 5,
   "metadata": {},
   "outputs": [
    {
     "data": {
      "text/plain": [
       "array([[ 0, 64,  8, 29, 13, 83, 69, 87, 58, 17],\n",
       "       [64,  0, 78, 27, 52, 18, 88,  9, 47, 63],\n",
       "       [ 8, 78,  0, 37, 61, 54, 33,  7,  2, 59],\n",
       "       [29, 27, 37,  0, 15, 93, 65, 89, 99, 90],\n",
       "       [13, 52, 61, 15,  0,  3, 91, 51, 81, 92],\n",
       "       [83, 18, 54, 93,  3,  0, 11, 53, 49, 48],\n",
       "       [69, 88, 33, 65, 91, 11,  0, 71, 67, 50],\n",
       "       [87,  9,  7, 89, 51, 53, 71,  0, 10, 62],\n",
       "       [58, 47,  2, 99, 81, 49, 67, 10,  0, 45],\n",
       "       [17, 63, 59, 90, 92, 48, 50, 62, 45,  0]])"
      ]
     },
     "execution_count": 5,
     "metadata": {},
     "output_type": "execute_result"
    }
   ],
   "source": [
    "dist"
   ]
  },
  {
   "cell_type": "markdown",
   "metadata": {},
   "source": [
    "<h5>tsp(n,j) Description</h5>"
   ]
  },
  {
   "cell_type": "markdown",
   "metadata": {},
   "source": [
    "<p>This method takes as input n which is a tuple(x, y) where x is the starting city and y is a tuple of rest of the cities<br> and j is city to which we have to stop, in our case that's x.</p>"
   ]
  },
  {
   "cell_type": "code",
   "execution_count": 6,
   "metadata": {
    "collapsed": true
   },
   "outputs": [],
   "source": [
    "def tsp(n, j):\n",
    "    #if n in cost:\n",
    "     #   return(cost[n])\n",
    "    \n",
    "    if type(n[1]) == int:\n",
    "        if n[1] == j:\n",
    "            return dist[n[0]][j]\n",
    "        else:\n",
    "            return (dist[n[0]][n[1]] + tsp((n[1], j), j))\n",
    "            \n",
    "            \n",
    "    else:      \n",
    "        minimum = 9999\n",
    "        for i in n[1]:\n",
    "            x = dist[n[0]][i]\n",
    "            S = set(n[1])\n",
    "            S = S-{i}\n",
    "            if len(S) == 1:\n",
    "                temp = tuple(S)\n",
    "                x = x + (tsp((i, temp[0]), j))\n",
    "            else:\n",
    "                x = x + (tsp((i, tuple(S)), j))\n",
    "            \n",
    "            minimum = min(x, minimum)\n",
    "        cost[(n[0], tuple(set(n[1])))] = minimum\n",
    "    return(minimum)"
   ]
  },
  {
   "cell_type": "code",
   "execution_count": 7,
   "metadata": {},
   "outputs": [
    {
     "name": "stdout",
     "output_type": "stream",
     "text": [
      "Minimum result :  152\n",
      "2.528939723968506\n"
     ]
    }
   ],
   "source": [
    "if __name__ == \"__main__\":\n",
    "    s = time.time()\n",
    "    cost = {}\n",
    "    print(\"Minimum result : \",tsp((0,(1,2,3,4,5,6,7,8,9)),0))\n",
    "    print(time.time() - s)\n",
    "    "
   ]
  },
  {
   "cell_type": "code",
   "execution_count": null,
   "metadata": {
    "collapsed": true
   },
   "outputs": [],
   "source": []
  }
 ],
 "metadata": {
  "kernelspec": {
   "display_name": "Python 3",
   "language": "python",
   "name": "python3"
  },
  "language_info": {
   "codemirror_mode": {
    "name": "ipython",
    "version": 3
   },
   "file_extension": ".py",
   "mimetype": "text/x-python",
   "name": "python",
   "nbconvert_exporter": "python",
   "pygments_lexer": "ipython3",
   "version": "3.6.2"
  }
 },
 "nbformat": 4,
 "nbformat_minor": 2
}
