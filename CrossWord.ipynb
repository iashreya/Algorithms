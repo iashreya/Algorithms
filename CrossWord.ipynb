{
 "cells": [
  {
   "cell_type": "code",
   "execution_count": 1,
   "metadata": {},
   "outputs": [],
   "source": [
    "def checkLenRight(crossword,i,j,_):\n",
    "    count = 0\n",
    "    for t in range(j,10):\n",
    "        if crossword[i][t]!=_:\n",
    "            count+=1\n",
    "        else:\n",
    "            break\n",
    "    return count"
   ]
  },
  {
   "cell_type": "code",
   "execution_count": 2,
   "metadata": {},
   "outputs": [],
   "source": [
    "def checkLenDown(crossword,i,j,_):\n",
    "    count = 0\n",
    "    for t in range(i,10):\n",
    "        if crossword[t][j]!=_:\n",
    "            count+=1\n",
    "        else:\n",
    "            break\n",
    "    return count"
   ]
  },
  {
   "cell_type": "code",
   "execution_count": 3,
   "metadata": {},
   "outputs": [],
   "source": [
    "def checkLeft(crossword,i,j,_):\n",
    "    sub = \"\"\n",
    "    j-=1\n",
    "    while(crossword[i][j]!=_ and j>=0):\n",
    "        sub=crossword[i][j]+sub\n",
    "        j-=1\n",
    "    return sub"
   ]
  },
  {
   "cell_type": "code",
   "execution_count": 4,
   "metadata": {},
   "outputs": [],
   "source": [
    "def checkUp(crossword,i,j,_):\n",
    "    sub = \"\"\n",
    "    i-=1\n",
    "    while(crossword[i][j]!=_ and i>=0):\n",
    "        sub=crossword[i][j]+sub\n",
    "        i-=1\n",
    "    return sub"
   ]
  },
  {
   "cell_type": "code",
   "execution_count": 5,
   "metadata": {},
   "outputs": [],
   "source": [
    "def fillWordRight(crossword,idx,words,i,j,shift):\n",
    "    word = words[idx]\n",
    "    words.remove(word)\n",
    "    word = word[shift:]\n",
    "    #print(word)\n",
    "    for t in range(len(word)):\n",
    "        crossword[i][j+t] = word[t]"
   ]
  },
  {
   "cell_type": "code",
   "execution_count": 6,
   "metadata": {},
   "outputs": [],
   "source": [
    "def fillWordDown(crossword,idx,words,i,j,shift):\n",
    "    word = words[idx]\n",
    "    words.remove(word)\n",
    "    word = word[shift:]\n",
    "    #print(word)\n",
    "    for t in range(len(word)):\n",
    "        crossword[i+t][j] = word[t]"
   ]
  },
  {
   "cell_type": "code",
   "execution_count": 7,
   "metadata": {},
   "outputs": [],
   "source": [
    "def is_complete(crossword):\n",
    "    for i in range(10):\n",
    "        for j in range(10):\n",
    "            if crossword[i][j]=='-':\n",
    "                return False\n",
    "    return True"
   ]
  },
  {
   "cell_type": "code",
   "execution_count": 80,
   "metadata": {},
   "outputs": [],
   "source": [
    "def crosswordPuzzle(crossword,words):\n",
    "    crossword = [[chr for chr in string] for string in crossword]\n",
    "    #words = words.split(\";\")\n",
    "    word_len = [len(i) for i in words]\n",
    "    #print(word_len)\n",
    "    \n",
    "    _ = '+' if '+' in crossword[0] else 'X'\n",
    "    \n",
    "    \n",
    "    for i in range(10):\n",
    "        for j in range(10):\n",
    "            if crossword[i][j]=='-':\n",
    "                #print(i,j)\n",
    "                down = checkLenDown(crossword,i,j,_)\n",
    "                right = checkLenRight(crossword,i,j,_)\n",
    "                left_sub = checkLeft(crossword,i,j,_)\n",
    "                up_sub = checkUp(crossword,i,j,_)\n",
    "\n",
    "                if len(up_sub)+down in word_len:\n",
    "                    #print(up_sub)\n",
    "                    #print(\"Down\",down)\n",
    "                    for word in words:\n",
    "                        if word.startswith(up_sub):\n",
    "                            if len(word)==down+len(up_sub):\n",
    "                                idx = words.index(word)\n",
    "                                word_len.remove(len(up_sub)+down)\n",
    "                                fillWordDown(crossword,idx,words,i,j,len(up_sub))\n",
    "                                break\n",
    "                    \n",
    "\n",
    "                if len(left_sub)+right in word_len:\n",
    "                    #print(left_sub)\n",
    "                    #print(\"Right\",right)\n",
    "                    for word in words:\n",
    "                        if word.startswith(left_sub):\n",
    "                            if len(word)==right+len(left_sub):\n",
    "                                idx = words.index(word)\n",
    "                                word_len.remove(len(left_sub)+right)\n",
    "                                fillWordRight(crossword,idx,words,i,j,len(left_sub))\n",
    "                                break\n",
    "                    \n",
    "            \n",
    "    \n",
    "    #for k in crossword:\n",
    "     #   print(''.join(k))\n",
    "    #print(\"*\"*100)\n",
    "    return is_complete(crossword),crossword"
   ]
  },
  {
   "cell_type": "code",
   "execution_count": 81,
   "metadata": {},
   "outputs": [],
   "source": [
    "from itertools import permutations"
   ]
  },
  {
   "cell_type": "code",
   "execution_count": 85,
   "metadata": {},
   "outputs": [],
   "source": [
    "def solve(crossword, words):\n",
    "    words = words.split(\";\")\n",
    "    for perm in permutations(words):\n",
    "        z = crosswordPuzzle(crossword,list(perm)) \n",
    "        if z[0]:\n",
    "            for i in z[1]:\n",
    "                print(''.join(i))\n",
    "            break    "
   ]
  },
  {
   "cell_type": "code",
   "execution_count": 86,
   "metadata": {
    "scrolled": true
   },
   "outputs": [
    {
     "name": "stdout",
     "output_type": "stream",
     "text": [
      "+M++++++++\n",
      "+ANDAMAN++\n",
      "+N++L+++++\n",
      "+ICELAND++\n",
      "+P++E++++P\n",
      "+U++P++++U\n",
      "+R++YANGON\n",
      "+++++++++E\n",
      "++++++++++\n",
      "++++++++++\n"
     ]
    }
   ],
   "source": [
    "crossword = ['+-++++++++', '+-------++', '+-++-+++++', '+-------++', '+-++-++++-', '+-++-++++-', '+-++------', '+++++++++-', '++++++++++', '++++++++++']\n",
    "words = \"ANDAMAN;MANIPUR;ICELAND;ALLEPY;YANGON;PUNE\"\n",
    "solve(crossword,words)"
   ]
  },
  {
   "cell_type": "code",
   "execution_count": 87,
   "metadata": {},
   "outputs": [
    {
     "name": "stdout",
     "output_type": "stream",
     "text": [
      "+C++++++++\n",
      "+A++T+++++\n",
      "+NIGERIA++\n",
      "+A++L++L++\n",
      "+D++A++A++\n",
      "+A++V++S++\n",
      "++++I++K++\n",
      "+LASVEGAS+\n",
      "++++++++++\n",
      "CALIFORNIA\n"
     ]
    }
   ],
   "source": [
    "crossword = ['+-++++++++', '+-++-+++++', '+-------++', '+-++-++-++', '+-++-++-++', '+-++-++-++', '++++-++-++', '+--------+', '++++++++++', '----------']\n",
    "words = \"CALIFORNIA;LASVEGAS;NIGERIA;CANADA;TELAVIV;ALASKA\"\n",
    "solve(crossword,words)"
   ]
  },
  {
   "cell_type": "code",
   "execution_count": 88,
   "metadata": {},
   "outputs": [
    {
     "name": "stdout",
     "output_type": "stream",
     "text": [
      "XXXXXXIXXX\n",
      "XXMEXICOXX\n",
      "XXXXXXEXXX\n",
      "XXXXXXLXXX\n",
      "XXXPANAMAX\n",
      "XXXXXXNXLX\n",
      "XXXXXXDXMX\n",
      "XXXXXXXXAX\n",
      "XXXXXXXXTX\n",
      "XXXXXXXXYX\n"
     ]
    }
   ],
   "source": [
    "crossword = ['XXXXXX-XXX', 'XX------XX', 'XXXXXX-XXX', 'XXXXXX-XXX', 'XXX------X', 'XXXXXX-X-X', 'XXXXXX-X-X', 'XXXXXXXX-X', 'XXXXXXXX-X', 'XXXXXXXX-X']\n",
    "words = \"ICELAND;MEXICO;PANAMA;ALMATY\"\n",
    "solve(crossword,words)"
   ]
  },
  {
   "cell_type": "code",
   "execution_count": 89,
   "metadata": {},
   "outputs": [
    {
     "name": "stdout",
     "output_type": "stream",
     "text": [
      "+L++++++++\n",
      "+O++++++++\n",
      "+N++++++++\n",
      "+DELHI++++\n",
      "+O+++C++++\n",
      "+N+++E++++\n",
      "+++++L++++\n",
      "++ANKARA++\n",
      "+++++N++++\n",
      "+++++D++++\n"
     ]
    }
   ],
   "source": [
    "crossword = ['+-++++++++', '+-++++++++', '+-++++++++', '+-----++++', '+-+++-++++', '+-+++-++++', '+++++-++++', '++------++', '+++++-++++', '+++++-++++']\n",
    "words = \"LONDON;DELHI;ICELAND;ANKARA\"\n",
    "solve(crossword,words)"
   ]
  },
  {
   "cell_type": "code",
   "execution_count": null,
   "metadata": {},
   "outputs": [],
   "source": []
  },
  {
   "cell_type": "code",
   "execution_count": null,
   "metadata": {},
   "outputs": [],
   "source": []
  }
 ],
 "metadata": {
  "kernelspec": {
   "display_name": "Python 3",
   "language": "python",
   "name": "python3"
  },
  "language_info": {
   "codemirror_mode": {
    "name": "ipython",
    "version": 3
   },
   "file_extension": ".py",
   "mimetype": "text/x-python",
   "name": "python",
   "nbconvert_exporter": "python",
   "pygments_lexer": "ipython3",
   "version": "3.7.4"
  }
 },
 "nbformat": 4,
 "nbformat_minor": 2
}
