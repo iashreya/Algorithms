{
 "cells": [
  {
   "cell_type": "code",
   "execution_count": 5,
   "metadata": {
    "collapsed": true
   },
   "outputs": [],
   "source": [
    "import numpy as np\n",
    "import random"
   ]
  },
  {
   "cell_type": "code",
   "execution_count": 64,
   "metadata": {
    "collapsed": true
   },
   "outputs": [],
   "source": [
    "class my_world():\n",
    "    def __init__ (self):\n",
    "        \n",
    "        self.target = 'unicorn'\n",
    "        self.new_population = ['unijorm', 'popcorn', 'pancake', 'abracad']\n",
    "        self.generation = 0\n",
    "        self.mutation_rate = 0.1\n",
    "        self.weights = []\n",
    "    \n",
    "    def fitness(self):\n",
    "        weight = []\n",
    "        for individual in self.new_population:\n",
    "            fit = 0\n",
    "            for i, j in zip(individual, self.target):\n",
    "                if i == j:\n",
    "                    fit = fit + 0.1\n",
    "            weight.append(fit)\n",
    "            temp = sum(weight)\n",
    "            weight = [i/temp for i in weight]\n",
    "        self.weights = weight\n",
    "        \n",
    "    def reproduce(self):\n",
    "        temp_pop = []\n",
    "        print(\"self.new_population = \", self.new_population)\n",
    "        print(\"self.weights = \", self.weights)\n",
    "        for k in range(4):\n",
    "            parent1,parent2 = np.random.choice(self.new_population, 2, p=self.weights)\n",
    "            child = []\n",
    "            par1 = []\n",
    "            par2 = []\n",
    "            \n",
    "            for i in parent1 :\n",
    "                par1.append(i)\n",
    "            for i in parent2 :\n",
    "                par2.append(i)\n",
    "            \n",
    "            child = par1[0:3]+par2[3:7]\n",
    "            child = self.mutation(child)\n",
    "            child = ''.join(child)\n",
    "            temp_pop.append(child)\n",
    "        \n",
    "        self.new_population = temp_pop\n",
    "        self.generation += 1\n",
    "        \n",
    "    def mutation(self, child):\n",
    "        genes = 'abcdefghijklmnopqrstuvwxyz'\n",
    "        idx = random.choice(range(7))\n",
    "        mut = random.choice(genes)\n",
    "        if(random.random() < self.mutation_rate):\n",
    "            child[idx] = mut\n",
    "        return(child)\n",
    "        \n",
    "            "
   ]
  },
  {
   "cell_type": "code",
   "execution_count": 75,
   "metadata": {},
   "outputs": [
    {
     "name": "stdout",
     "output_type": "stream",
     "text": [
      "self.new_population =  ['unijorm', 'popcorn', 'pancake', 'abracad']\n",
      "self.weights =  [0.6493506493506493, 0.25974025974025977, 0.09090909090909091, 0.0]\n",
      "self.new_population =  ['unijorm', 'pancake', 'pancorn', 'popjorm']\n",
      "self.weights =  [0.5411255411255411, 0.05411255411255412, 0.23809523809523814, 0.16666666666666669]\n",
      "['unicorn', 'popjorm', 'unijorm', 'unijorm']\n",
      "Found\n"
     ]
    }
   ],
   "source": [
    "def main():\n",
    "    world = my_world()\n",
    "\n",
    "    while True:\n",
    "        if world.target not in world.new_population:\n",
    "            world.fitness()\n",
    "            world.reproduce()\n",
    "        else:\n",
    "            print(world.new_population)\n",
    "            print(\"Found\")\n",
    "            break\n",
    "    \n",
    "if __name__ == \"__main__\":\n",
    "    main()\n",
    "\n",
    "    \n",
    "        "
   ]
  },
  {
   "cell_type": "code",
   "execution_count": 67,
   "metadata": {},
   "outputs": [
    {
     "data": {
      "text/plain": [
       "0.5219327188380627"
      ]
     },
     "execution_count": 67,
     "metadata": {},
     "output_type": "execute_result"
    }
   ],
   "source": [
    "random.random()"
   ]
  },
  {
   "cell_type": "code",
   "execution_count": null,
   "metadata": {
    "collapsed": true
   },
   "outputs": [],
   "source": []
  }
 ],
 "metadata": {
  "kernelspec": {
   "display_name": "Python 3",
   "language": "python",
   "name": "python3"
  },
  "language_info": {
   "codemirror_mode": {
    "name": "ipython",
    "version": 3
   },
   "file_extension": ".py",
   "mimetype": "text/x-python",
   "name": "python",
   "nbconvert_exporter": "python",
   "pygments_lexer": "ipython3",
   "version": "3.6.2"
  }
 },
 "nbformat": 4,
 "nbformat_minor": 2
}
