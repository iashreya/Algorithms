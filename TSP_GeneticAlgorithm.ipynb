{
 "cells": [
  {
   "cell_type": "code",
   "execution_count": 1,
   "metadata": {
    "collapsed": true
   },
   "outputs": [],
   "source": [
    "import numpy as np"
   ]
  },
  {
   "cell_type": "code",
   "execution_count": 2,
   "metadata": {
    "collapsed": true
   },
   "outputs": [],
   "source": [
    "import random"
   ]
  },
  {
   "cell_type": "code",
   "execution_count": 3,
   "metadata": {
    "collapsed": true
   },
   "outputs": [],
   "source": [
    "import time"
   ]
  },
  {
   "cell_type": "markdown",
   "metadata": {},
   "source": [
    "<h3>Generating random n random cities and distances between them.</h3>"
   ]
  },
  {
   "cell_type": "markdown",
   "metadata": {},
   "source": [
    "<p><small>*The below mentioned code creates a random array of elements of size n^2.*<br>\n",
    "    *It then makes the diagonal elements 0(considering the distance between a city and itself is 0)*<br>\n",
    "    *The last section of code makes symmetric elements of array (Since, dist b/w n to m is equal to dist b/w m to n.)*</small></p>"
   ]
  },
  {
   "cell_type": "code",
   "execution_count": 4,
   "metadata": {
    "collapsed": true
   },
   "outputs": [],
   "source": [
    "n = 10\n",
    "dist = np.array([random.sample(range(n**2),n**2)])\n",
    "dist = dist.reshape(n,n)\n",
    "\n",
    "for i in range(n):\n",
    "    dist[i][i] = 0\n",
    "    \n",
    "for i in range(n):\n",
    "    for j in range(n):\n",
    "        if j < i:\n",
    "            dist[i][j] = dist[j][i]"
   ]
  },
  {
   "cell_type": "code",
   "execution_count": 5,
   "metadata": {
    "collapsed": true
   },
   "outputs": [],
   "source": [
    "# I have taken a specific example.\n",
    "dist = np.array([[ 0, 82, 19, 39, 99, 73, 40, 34, 69, 81],\n",
    "       [82,  0, 41, 63, 53, 60, 93, 27,  2, 10],\n",
    "       [19, 41,  0, 26, 36, 67, 52, 87, 56, 94],\n",
    "       [39, 63, 26,  0, 76, 57, 55, 35, 45, 11],\n",
    "       [99, 53, 36, 76,  0, 64, 58, 28, 44, 29],\n",
    "       [73, 60, 67, 57, 64,  0, 62,  3,  6, 75],\n",
    "       [40, 93, 52, 55, 58, 62,  0, 16, 80, 47],\n",
    "       [34, 27, 87, 35, 28,  3, 16,  0,  5, 91],\n",
    "       [69,  2, 56, 45, 44,  6, 80,  5,  0,  1],\n",
    "       [81, 10, 94, 11, 29, 75, 47, 91,  1,  0]])"
   ]
  },
  {
   "cell_type": "code",
   "execution_count": 6,
   "metadata": {},
   "outputs": [
    {
     "data": {
      "text/plain": [
       "array([[ 0, 82, 19, 39, 99, 73, 40, 34, 69, 81],\n",
       "       [82,  0, 41, 63, 53, 60, 93, 27,  2, 10],\n",
       "       [19, 41,  0, 26, 36, 67, 52, 87, 56, 94],\n",
       "       [39, 63, 26,  0, 76, 57, 55, 35, 45, 11],\n",
       "       [99, 53, 36, 76,  0, 64, 58, 28, 44, 29],\n",
       "       [73, 60, 67, 57, 64,  0, 62,  3,  6, 75],\n",
       "       [40, 93, 52, 55, 58, 62,  0, 16, 80, 47],\n",
       "       [34, 27, 87, 35, 28,  3, 16,  0,  5, 91],\n",
       "       [69,  2, 56, 45, 44,  6, 80,  5,  0,  1],\n",
       "       [81, 10, 94, 11, 29, 75, 47, 91,  1,  0]])"
      ]
     },
     "execution_count": 6,
     "metadata": {},
     "output_type": "execute_result"
    }
   ],
   "source": [
    "dist"
   ]
  },
  {
   "cell_type": "markdown",
   "metadata": {
    "collapsed": true
   },
   "source": [
    "<h3>Declaring cities as 0-n</h3>"
   ]
  },
  {
   "cell_type": "code",
   "execution_count": 7,
   "metadata": {
    "collapsed": true
   },
   "outputs": [],
   "source": [
    "cities = [i for i in range(n)]"
   ]
  },
  {
   "cell_type": "markdown",
   "metadata": {},
   "source": [
    "<h3>Declaring the size of population </h3>"
   ]
  },
  {
   "cell_type": "code",
   "execution_count": 8,
   "metadata": {
    "collapsed": true
   },
   "outputs": [],
   "source": [
    "POPULATION_SIZE = 300"
   ]
  },
  {
   "cell_type": "markdown",
   "metadata": {},
   "source": [
    "<h3>Defining the class Individual</h3>"
   ]
  },
  {
   "cell_type": "markdown",
   "metadata": {},
   "source": [
    "<p><small>\n",
    "    __Data this class contains :__ <br><br>\n",
    "    *__chromosome__ :- it is list which contains the path*<br>\n",
    "    *__fitness__ :- it is an integer which contains the fitness of an Individual object*<br><br><br>\n",
    "    __Methods of this class : __<br><br>\n",
    "    *__create_gnome ::__ <br>__Input__ : the class itself<br>__Return__ : a random path<br>  *\n",
    "    *__mate ::__<br>__Input__ : two individual objects(One acts as an invoker)<br>__Return__:an object of Individual class which acts as child<br>*\n",
    "    *__mutation ::__<br>__Input__: the object itself<br>__Return__: if probability allows, swaps two random cities in the path<br>*\n",
    "    *__cal_fitness ::__<br>__Input__: the object itself<br>__Return__: it return the path length as fitness of Individual object<br>*\n",
    "    \n",
    "    \n",
    "    \n",
    "    \n",
    "    \n",
    "</small></p>"
   ]
  },
  {
   "cell_type": "code",
   "execution_count": 9,
   "metadata": {
    "collapsed": true
   },
   "outputs": [],
   "source": [
    "class Individual():\n",
    "    \n",
    "    def __init__(self, chromosome):\n",
    "        self.chromosome = chromosome\n",
    "        self.path_length = self.cal_path_length()\n",
    "        self.fitness = self.cal_fitness()\n",
    "        \n",
    "    @classmethod\n",
    "    def create_gnome(self):\n",
    "        gnome = []\n",
    "        temp = [i for i in cities]\n",
    "        for i in cities:\n",
    "            x = random.choice(temp)\n",
    "            gnome.append(x)\n",
    "            temp.remove(x)    \n",
    "        return(gnome)\n",
    "    \n",
    "    def mate(self, par2):\n",
    "        x_part = 3\n",
    "        y_part = 6\n",
    "        t1 = self.chromosome[x_part:y_part]\n",
    "        t2 = par2.chromosome[x_part:y_part]\n",
    "        child1 = []\n",
    "                \n",
    "        for i, j in zip(self.chromosome[0:x_part], par2.chromosome[0:x_part]):\n",
    "            if i not in t2 :\n",
    "                child1.append(i) \n",
    "            else:\n",
    "                temp1 = random.choice(t1)\n",
    "                while (temp1 in t2) or (temp1 in child1) :\n",
    "                    temp1 = random.choice(t1)\n",
    "                child1.append(temp1)\n",
    "        \n",
    "        child1 = child1+t2\n",
    "               \n",
    "        length = len(cities)\n",
    "        for i, j in zip(self.chromosome[y_part:length], par2.chromosome[y_part:length]):\n",
    "            if (i not in t2):\n",
    "                child1.append(i)\n",
    "            else:\n",
    "                temp1 = random.choice(t1)\n",
    "                while temp1 in t2 or temp1 in child1:\n",
    "                    temp1 = random.choice(t1)\n",
    "                child1.append(temp1)\n",
    "        return(Individual(child1))\n",
    "    \n",
    "    def mutation(self):\n",
    "        global cities\n",
    "        prob = random.random()\n",
    "        mutation_rate = 0.4\n",
    "        if prob < mutation_rate:\n",
    "            x = random.choice(cities)\n",
    "            y = random.choice(cities)\n",
    "            temp = self.chromosome[x]\n",
    "            self.chromosome[x] = self.chromosome[y]\n",
    "            self.chromosome[y] = temp\n",
    "            \n",
    "\n",
    "    def cal_fitness(self):\n",
    "        return (self.path_length)**2\n",
    "    \n",
    "    \n",
    "    def cal_path_length(self):\n",
    "        path = 0\n",
    "        length = len(self.chromosome)\n",
    "        for i in range(length-1):\n",
    "            path = path + dist[self.chromosome[i], self.chromosome[i+1]]\n",
    "        \n",
    "        path = path + dist[self.chromosome[length-1],self.chromosome[0]]\n",
    "        \n",
    "        return path\n",
    "\n",
    "    @classmethod   \n",
    "    def selection(self, population):\n",
    "        while True:\n",
    "            max_fitness = 1000000000000\n",
    "            par = random.choice(population)\n",
    "            prob = random.randint(0, max_fitness)\n",
    "        \n",
    "            if(prob > par.fitness):\n",
    "                return par"
   ]
  },
  {
   "cell_type": "markdown",
   "metadata": {},
   "source": [
    "<h3>Defining the main function </h3>"
   ]
  },
  {
   "cell_type": "markdown",
   "metadata": {},
   "source": [
    "<p>__In main, we follow the following steps : __<br>\n",
    "   *->A random population of Individual objects is created.*<br>\n",
    "   *->Objects are sorted according to their fitness values.*<br>\n",
    "   *->The first 20% of sorted objects is directly sent to the new generation.*<br>\n",
    "   *->The remaining childs are created by randomly choosing parents from the population and added to next generation.<br>*\n",
    "    </p>"
   ]
  },
  {
   "cell_type": "code",
   "execution_count": 10,
   "metadata": {
    "collapsed": true
   },
   "outputs": [],
   "source": [
    "def main():\n",
    "    global POPULATION_SIZE\n",
    "    global cities\n",
    "    generation = 1\n",
    "    found = False\n",
    "    \n",
    "    population = [Individual(Individual.create_gnome()) for _ in range(POPULATION_SIZE)]\n",
    "        \n",
    "    while not found:\n",
    "        population = sorted(population, key = lambda x : x.fitness)\n",
    "     \n",
    "        if population[0].path_length <=200 or generation == 1000:\n",
    "            found = True\n",
    "            break\n",
    "            \n",
    "        new_generation = []\n",
    "        s = int((10*POPULATION_SIZE)/100)\n",
    "        new_generation.extend(population[:s])\n",
    "        \n",
    "        s = int((90*POPULATION_SIZE)/100)\n",
    "        for _ in range(s):\n",
    "            par1, par2 = Individual.selection(population),Individual.selection(population)\n",
    "            child = par1.mate(par2)\n",
    "            child.mutation()\n",
    "            new_generation.append(child)\n",
    "            \n",
    "        population = new_generation\n",
    "        \n",
    "        print(\"Generation: {}\\tPath: {}\\tPath_Length: {}\".format(generation,population[0].chromosome,population[0].path_length))\n",
    "        generation += 1\n",
    "    \n",
    "    print(\"Generation: {}\\tPath: {}\\tPath_Length: {}\".format(generation,population[0].chromosome,population[0].path_length))\n",
    "\n",
    "    generation += 1\n",
    "    \n",
    "\n"
   ]
  },
  {
   "cell_type": "markdown",
   "metadata": {},
   "source": [
    "<h3>Invoking the main function</h3>"
   ]
  },
  {
   "cell_type": "code",
   "execution_count": 11,
   "metadata": {
    "collapsed": true
   },
   "outputs": [],
   "source": [
    "average_time = []"
   ]
  },
  {
   "cell_type": "code",
   "execution_count": 16,
   "metadata": {},
   "outputs": [
    {
     "name": "stdout",
     "output_type": "stream",
     "text": [
      "Generation: 1\tPath: [4, 7, 5, 8, 9, 1, 2, 0, 3, 6]\tPath_Length: 260\n",
      "Generation: 2\tPath: [4, 7, 5, 8, 9, 1, 2, 0, 3, 6]\tPath_Length: 260\n",
      "Generation: 3\tPath: [2, 0, 3, 7, 5, 8, 1, 9, 6, 4]\tPath_Length: 255\n",
      "Generation: 4\tPath: [2, 0, 3, 7, 5, 8, 1, 9, 6, 4]\tPath_Length: 255\n",
      "Generation: 5\tPath: [2, 0, 3, 7, 5, 8, 1, 9, 6, 4]\tPath_Length: 255\n",
      "Generation: 6\tPath: [2, 0, 3, 7, 5, 8, 1, 9, 6, 4]\tPath_Length: 255\n",
      "Generation: 7\tPath: [2, 0, 3, 7, 5, 8, 1, 9, 6, 4]\tPath_Length: 255\n",
      "Generation: 8\tPath: [2, 0, 3, 7, 5, 8, 1, 9, 6, 4]\tPath_Length: 255\n",
      "Generation: 9\tPath: [2, 0, 3, 7, 5, 8, 1, 9, 6, 4]\tPath_Length: 255\n",
      "Generation: 10\tPath: [2, 0, 3, 7, 5, 8, 1, 9, 6, 4]\tPath_Length: 255\n",
      "Generation: 11\tPath: [4, 9, 1, 8, 5, 7, 6, 3, 0, 2]\tPath_Length: 252\n",
      "Generation: 12\tPath: [4, 9, 1, 8, 5, 7, 6, 3, 0, 2]\tPath_Length: 252\n",
      "Generation: 13\tPath: [3, 6, 0, 2, 4, 9, 1, 8, 5, 7]\tPath_Length: 235\n",
      "Generation: 14\tPath: [3, 6, 0, 2, 4, 9, 1, 8, 5, 7]\tPath_Length: 235\n",
      "Generation: 15\tPath: [2, 0, 3, 9, 1, 8, 5, 7, 6, 4]\tPath_Length: 200\n",
      "0.16593281173182461\n"
     ]
    }
   ],
   "source": [
    "if __name__ == \"__main__\":\n",
    "    s = time.clock()\n",
    "    main()\n",
    "    average_time.append(time.clock()-s)\n",
    "    print(time.clock()-s)\n",
    "    \n"
   ]
  },
  {
   "cell_type": "code",
   "execution_count": 17,
   "metadata": {},
   "outputs": [
    {
     "data": {
      "text/plain": [
       "0.39894047769337515"
      ]
     },
     "execution_count": 17,
     "metadata": {},
     "output_type": "execute_result"
    }
   ],
   "source": [
    "sum(average_time)/len(average_time)"
   ]
  },
  {
   "cell_type": "markdown",
   "metadata": {},
   "source": [
    "<h3>Issues:</h3>\n",
    "<p>*->Gets stuck at a local minimum.<br>*\n",
    "   </p>"
   ]
  },
  {
   "cell_type": "markdown",
   "metadata": {
    "collapsed": true
   },
   "source": [
    "<p>Parameters to be tuned : <br>\n",
    "    ->population_size<br>\n",
    "    ->mutation_rate<br>\n",
    "    ->percentage population to be passed to next generation<br>\n",
    "    ->stopping criteria(minimum path_length or max_generations)<br>"
   ]
  },
  {
   "cell_type": "code",
   "execution_count": null,
   "metadata": {
    "collapsed": true
   },
   "outputs": [],
   "source": []
  },
  {
   "cell_type": "code",
   "execution_count": null,
   "metadata": {
    "collapsed": true
   },
   "outputs": [],
   "source": []
  }
 ],
 "metadata": {
  "kernelspec": {
   "display_name": "Python 3",
   "language": "python",
   "name": "python3"
  },
  "language_info": {
   "codemirror_mode": {
    "name": "ipython",
    "version": 3
   },
   "file_extension": ".py",
   "mimetype": "text/x-python",
   "name": "python",
   "nbconvert_exporter": "python",
   "pygments_lexer": "ipython3",
   "version": "3.6.2"
  }
 },
 "nbformat": 4,
 "nbformat_minor": 2
}
